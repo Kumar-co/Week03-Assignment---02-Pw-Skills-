{
  "nbformat": 4,
  "nbformat_minor": 0,
  "metadata": {
    "colab": {
      "provenance": []
    },
    "kernelspec": {
      "name": "python3",
      "display_name": "Python 3"
    },
    "language_info": {
      "name": "python"
    }
  },
  "cells": [
    {
      "cell_type": "code",
      "execution_count": 3,
      "metadata": {
        "colab": {
          "base_uri": "https://localhost:8080/"
        },
        "id": "tnV-Pz9U_TQM",
        "outputId": "bda5f7a9-acb6-46dd-ebf4-0eb45776b459"
      },
      "outputs": [
        {
          "output_type": "stream",
          "name": "stdout",
          "text": [
            "Sorted list of tuples: [('Virat Kohli', 24936), ('Jack Kallis', 25534), ('Ricky Ponting', 27483), ('Sachin Tendulkar', 34357)]\n"
          ]
        }
      ],
      "source": [
        "'''Q1. Create a python program to sort the given list of tuples based on integer value using a\n",
        "lambda function.'''\n",
        "#Answer\n",
        " # Define the list of tuples with player names and their respective scores\n",
        "list_of_tuples = [\n",
        "    ('Sachin Tendulkar', 34357),\n",
        "    ('Ricky Ponting', 27483),\n",
        "    ('Jack Kallis', 25534),\n",
        "    ('Virat Kohli', 24936)\n",
        "]\n",
        "\n",
        "# Sort the list of tuples based on the integer value (second element in each tuple)\n",
        "sorted_list = sorted(list_of_tuples, key=lambda x: x[1])\n",
        "\n",
        "# Print the sorted list\n",
        "print(\"Sorted list of tuples:\", sorted_list)\n"
      ]
    },
    {
      "cell_type": "code",
      "source": [
        "'''Q2. Write a Python Program to find the squares of all the numbers in the given list of integers using\n",
        "lambda and map functions.\n",
        "[1, 2, 3, 4, 5, 6, 7, 8, 9, 10]'''\n",
        "#Answer\n",
        "# Define the list of integers\n",
        "numbers = [1, 2, 3, 4, 5, 6, 7, 8, 9, 10]\n",
        "\n",
        "# Use map to apply a lambda function that calculates the square of each number\n",
        "squared_numbers = list(map(lambda x: x**2, numbers))\n",
        "\n",
        "# Print the list of squared numbers\n",
        "print(\"Squares of the numbers:\", squared_numbers)\n"
      ],
      "metadata": {
        "colab": {
          "base_uri": "https://localhost:8080/"
        },
        "id": "QgKJeWoUZD30",
        "outputId": "c49d7d47-bba9-464f-b85d-76f07a49dedf"
      },
      "execution_count": 5,
      "outputs": [
        {
          "output_type": "stream",
          "name": "stdout",
          "text": [
            "Squares of the numbers: [1, 4, 9, 16, 25, 36, 49, 64, 81, 100]\n"
          ]
        }
      ]
    },
    {
      "cell_type": "code",
      "source": [
        "'''Q3. Write a python program to convert the given list of integers into a tuple of strings. Use map and\n",
        "lambda functions'''\n",
        "#Answer\n",
        " # Given list of integers\n",
        "numbers = [1, 2, 3, 4, 5, 6, 7, 8, 9, 10]\n",
        "\n",
        "# Use map to apply a lambda function that converts each integer to a string\n",
        "string_numbers = tuple(map(lambda x: str(x), numbers))\n",
        "\n",
        "# Print the resulting tuple of strings\n",
        "print(\"Tuple of strings:\", string_numbers)\n"
      ],
      "metadata": {
        "colab": {
          "base_uri": "https://localhost:8080/"
        },
        "id": "AVl7dFbEZ5QA",
        "outputId": "972be13e-6499-4fdc-dc6b-ac5e20124fa5"
      },
      "execution_count": 9,
      "outputs": [
        {
          "output_type": "stream",
          "name": "stdout",
          "text": [
            "Tuple of strings: ('1', '2', '3', '4', '5', '6', '7', '8', '9', '10')\n"
          ]
        }
      ]
    },
    {
      "cell_type": "code",
      "source": [
        "'''Q4. Write a python program using reduce function to compute the product of a list containing numbers\n",
        "from 1 to 25.'''\n",
        "#Answer\n",
        "from functools import reduce\n",
        "\n",
        "# Define the list of numbers from 1 to 25\n",
        "numbers = list(range(1, 26))\n",
        "\n",
        "# Use reduce to compute the product of all numbers in the list\n",
        "product = reduce(lambda x, y: x * y, numbers)\n",
        "\n",
        "# Print the resulting product\n",
        "print(\"Product of numbers from 1 to 25:\", product)\n"
      ],
      "metadata": {
        "colab": {
          "base_uri": "https://localhost:8080/"
        },
        "id": "-kk7fDC0aYid",
        "outputId": "929b1c56-16f4-4a34-a101-c215ad19476c"
      },
      "execution_count": 11,
      "outputs": [
        {
          "output_type": "stream",
          "name": "stdout",
          "text": [
            "Product of numbers from 1 to 25: 15511210043330985984000000\n"
          ]
        }
      ]
    },
    {
      "cell_type": "code",
      "source": [
        "'''Q5. Write a python program to filter the numbers in a given list that are divisible by 2 and 3 using the\n",
        "filter function.'''\n",
        "#Answer\n",
        "# Define the list of numbers\n",
        "numbers = [2, 3, 6, 9, 27, 60, 90, 120, 55, 46]\n",
        "\n",
        "# Use filter to keep only the numbers divisible by both 2 and 3\n",
        "filtered_numbers = list(filter(lambda x: x % 2 == 0 and x % 3 == 0, numbers))\n",
        "\n",
        "# Print the filtered list\n",
        "print(\"Numbers divisible by both 2 and 3:\", filtered_numbers)\n"
      ],
      "metadata": {
        "colab": {
          "base_uri": "https://localhost:8080/"
        },
        "id": "2Sk7YAumbEwI",
        "outputId": "fb921ee5-62cd-49a3-a192-64dc00c4f05c"
      },
      "execution_count": 13,
      "outputs": [
        {
          "output_type": "stream",
          "name": "stdout",
          "text": [
            "Numbers divisible by both 2 and 3: [6, 60, 90, 120]\n"
          ]
        }
      ]
    },
    {
      "cell_type": "code",
      "source": [
        "'''Q6. Write a python program to find palindromes in the given list of strings using lambda and filter\n",
        "function.\n",
        "['python', 'php', 'aba', 'radar', 'level']'''\n",
        "#Answer\n",
        "# Define the list of strings\n",
        "strings = ['python', 'php', 'aba', 'radar', 'level']\n",
        "\n",
        "# Use filter to keep only the palindromes\n",
        "palindromes = list(filter(lambda s: s == s[::-1], strings))\n",
        "\n",
        "# Print the list of palindromes\n",
        "print(\"Palindromes in the list:\", palindromes)\n"
      ],
      "metadata": {
        "colab": {
          "base_uri": "https://localhost:8080/"
        },
        "id": "FIvhS8C5b0HR",
        "outputId": "d3bbd254-f457-46e5-ffd1-f9d0680eac77"
      },
      "execution_count": 14,
      "outputs": [
        {
          "output_type": "stream",
          "name": "stdout",
          "text": [
            "Palindromes in the list: ['php', 'aba', 'radar', 'level']\n"
          ]
        }
      ]
    }
  ]
}